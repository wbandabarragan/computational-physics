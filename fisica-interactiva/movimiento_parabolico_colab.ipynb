{
  "cells": [
    {
      "cell_type": "markdown",
      "metadata": {
        "id": "view-in-github",
        "colab_type": "text"
      },
      "source": [
        "<a href=\"https://colab.research.google.com/github/wbandabarragan/computational-physics/blob/main/fisica-interactiva/movimiento_parabolico_colab.ipynb\" target=\"_parent\"><img src=\"https://colab.research.google.com/assets/colab-badge.svg\" alt=\"Open In Colab\"/></a>"
      ]
    },
    {
      "cell_type": "markdown",
      "id": "1a63ceff-c88a-483b-b110-1f9f8e1ca63d",
      "metadata": {
        "id": "1a63ceff-c88a-483b-b110-1f9f8e1ca63d"
      },
      "source": [
        "# Movimiento Parabólico\n",
        "\n",
        "El movimiento parabólico estudia la trayectoria de un objeto bajo la influencia de la gravedad.\n",
        "\n",
        "Las ecuaciones de movimiento son:\n",
        "\n",
        "$x(t) = v_0 \\cos\\alpha \\cdot t$\n",
        "\n",
        "$y(t) = y_0 + v_0 \\sin\\alpha \\cdot t - \\frac{1}{2} g t^2$\n",
        "\n",
        "La velocidad horizontal es constante:\n",
        "\n",
        "$v_x = v_0 \\cos\\alpha$\n",
        "\n",
        "La velocidad vertical es variable:\n",
        "\n",
        "$v_y(t) = v_0 \\sin\\alpha - g t$\n",
        "\n",
        "El tiempo de vuelo es:\n",
        "\n",
        "$t = \\frac{2 v_0 \\sin\\alpha}{g}$\n",
        "\n",
        "La altura máxima es:\n",
        "\n",
        "$h = \\frac{(v_0 \\sin\\alpha)^2}{2g}$\n",
        "\n",
        "El alcance horizontal es:\n",
        "\n",
        "$x_{\\rm max} = \\frac{v_0^2 \\sin(2\\alpha)}{g}$\n",
        "\n"
      ]
    },
    {
      "cell_type": "code",
      "execution_count": null,
      "id": "6ef364e4-46a8-44aa-96b7-4030461cf9e3",
      "metadata": {
        "colab": {
          "referenced_widgets": [
            "a1bc1aba28864fec893279f5cc2a2e2b"
          ]
        },
        "id": "6ef364e4-46a8-44aa-96b7-4030461cf9e3",
        "outputId": "a0b80274-21f1-4494-d090-155b18fd6a07"
      },
      "outputs": [
        {
          "data": {
            "application/vnd.jupyter.widget-view+json": {
              "model_id": "a1bc1aba28864fec893279f5cc2a2e2b",
              "version_major": 2,
              "version_minor": 0
            },
            "text/plain": [
              "interactive(children=(FloatSlider(value=20.0, description='$v_0 \\\\, (\\\\rm m/s)$', max=50.0, min=1.0, step=1.0)…"
            ]
          },
          "metadata": {},
          "output_type": "display_data"
        }
      ],
      "source": [
        "# Importamos librerías\n",
        "import numpy as np\n",
        "import matplotlib.pyplot as plt\n",
        "\n",
        "# Importante para animación\n",
        "from ipywidgets import interact, FloatSlider, IntSlider\n",
        "from matplotlib.animation import FuncAnimation\n",
        "\n",
        "# Condiciones iniciales globales\n",
        "x0, y0 = 0, 0\n",
        "#v0 = 20.0  # Velocidad Inicial (m/s)\n",
        "g = 9.8    # Aceleración Gravitatoria (m/s^2)\n",
        "a_1 = 90   # Ángulo de lanzamiento para h máxima\n",
        "a_2 = 45   # Ángulo de lanzamiento de x máximo\n",
        "\n",
        "# Función para calcular valores de referencia máximos\n",
        "def extremos(v0, a_1, a_2):\n",
        "    \"\"\"\n",
        "    Función usada para calcular valores máximos de referencia de manera\n",
        "    que los ejes varíen de acuerdo a las condiciones iniciales.\n",
        "    Entradas: v0, a_1 y a_2\n",
        "    Salidas:\n",
        "    \"\"\"\n",
        "\n",
        "    # Conversión a radianes\n",
        "    max_a1 = np.radians(a_1)\n",
        "    max_a2 = np.radians(a_2)\n",
        "\n",
        "    # Tiempo de vuelo máximo\n",
        "    max_t = 2*v0*np.sin(max_a1)/g\n",
        "    max_y = (v0*np.sin(max_a1))**2/(2*g)\n",
        "\n",
        "    # Alcance máximo\n",
        "    max_x = v0**2*np.sin(2*max_a2)/g\n",
        "\n",
        "    # Retorno\n",
        "    return max_x, max_y, max_t\n",
        "\n",
        "# Función para calcular el movimiento parabólico\n",
        "def parabolico(v0, alpha_g):\n",
        "    \"\"\"\n",
        "    Función que permite calcular las coordenadas (x,y)\n",
        "    de una partícula en movimiento parabólico.\n",
        "    Entrada: alpha_g -> ángulo alpha en grados\n",
        "    Salida: tuple x,y -> coordenadas\n",
        "    \"\"\"\n",
        "    # Conversión de grados a radianes\n",
        "    alpha = np.radians(alpha_g)\n",
        "\n",
        "    # Tiempo de vuelo\n",
        "    t_vuelo = 2*v0 * np.sin(alpha)/g\n",
        "\n",
        "    # Alcance\n",
        "    x_vuelo = v0**2*np.sin(2*alpha)/g\n",
        "\n",
        "    # Altura máxima\n",
        "    y_vuelo = (v0*np.sin(alpha))**2/(2*g)\n",
        "\n",
        "    # Arreglo de tiempo\n",
        "    t = np.linspace(0, t_vuelo, 1000)\n",
        "\n",
        "    # Cálculo de coordenadas\n",
        "    x = x0 + v0 * np.cos(alpha) * t\n",
        "    y = y0 + v0 * np.sin(alpha) * t - 0.5 * g * t**2\n",
        "\n",
        "    # Retorno de salidas\n",
        "    return x, y, t_vuelo, x_vuelo, y_vuelo\n",
        "\n",
        "# Plot interactivo\n",
        "def grafico(v0, alpha_g):\n",
        "    \"\"\"\n",
        "    Función que permite que el usuario varíe el ángulo\n",
        "    alpha de lanzamiento.\n",
        "    Entrada: alpha_g -> ángulo de lanzamiento en radianes.\n",
        "    Salida: plot\n",
        "    \"\"\"\n",
        "    # Calcular coordenadas para alpha_g\n",
        "    x, y, t_vuelo, x_vuelo, y_vuelo = parabolico(v0, alpha_g)\n",
        "\n",
        "    # Calcular valores máximos para ejes\n",
        "    max_x, max_y, max_t = extremos(v0, a_1, a_2)\n",
        "\n",
        "    # Crear figuras para cada alpha_g\n",
        "    plt.figure(figsize=(8, 5))\n",
        "\n",
        "    plt.plot(x, y, color = \"magenta\", label=rf\"$\\alpha$ = {alpha_g}°\")\n",
        "    plt.title(rf\"$v_0$ = {v0}$\\,\\rm m / s$, $t_v$ = {t_vuelo.round(2)}s, $x_v$ = {x_vuelo.round(2)}m, $h_v$ = {y_vuelo.round(2)}m\")\n",
        "\n",
        "    plt.xlim(-1, max_x + 1)\n",
        "    plt.ylim(-1, max_y + 1)\n",
        "\n",
        "    plt.xlabel(r\"$x\\,\\rm [m]$\")\n",
        "    plt.ylabel(r\"$y\\,\\rm [m]$\")\n",
        "\n",
        "    plt.legend()\n",
        "\n",
        "    plt.grid(True)\n",
        "\n",
        "    plt.show()\n",
        "\n",
        "# Cálculo de valores máximos para fijar ejes\n",
        "#max_x, max_y, max_t = extremos(v0, a_1, a_2\n",
        "\n",
        "# Desplazadores en Latex\n",
        "v0_desp = FloatSlider(value=20, min=1, max=50, step=1, description=r'$v_0 \\, (\\rm m/s)$')\n",
        "al_desp = IntSlider(value=45, min=0, max=90, step=1, description=r'$\\alpha \\, (\\rm grados)$')\n",
        "\n",
        "# Generador interactivo para ángulos entre 0 y 90 grados\n",
        "interact(grafico, v0 = v0_desp, alpha_g = al_desp);\n"
      ]
    }
  ],
  "metadata": {
    "kernelspec": {
      "display_name": "Python 3 (ipykernel)",
      "language": "python",
      "name": "python3"
    },
    "language_info": {
      "codemirror_mode": {
        "name": "ipython",
        "version": 3
      },
      "file_extension": ".py",
      "mimetype": "text/x-python",
      "name": "python",
      "nbconvert_exporter": "python",
      "pygments_lexer": "ipython3",
      "version": "3.9.18"
    },
    "colab": {
      "provenance": [],
      "include_colab_link": true
    }
  },
  "nbformat": 4,
  "nbformat_minor": 5
}